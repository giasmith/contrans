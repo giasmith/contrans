{
 "cells": [
  {
   "cell_type": "code",
   "execution_count": 48,
   "id": "3ce322e3-2220-487c-b032-971771f2afa9",
   "metadata": {},
   "outputs": [],
   "source": [
    "import pandas as pd\n",
    "import numpy as np\n",
    "import requests\n",
    "import os \n",
    "import json\n",
    "from bs4 import BeautifulSoup\n",
    "import collections\n",
    "collections.Callable = collections.abc.Callable"
   ]
  },
  {
   "cell_type": "raw",
   "id": "3915f97a-d29d-4205-9903-20772913870b",
   "metadata": {},
   "source": [
    "Link: https://projects.propublica.org/api-docs/congress-api/bills/"
   ]
  },
  {
   "cell_type": "code",
   "execution_count": 38,
   "id": "6181349d-31d6-4c73-9822-053a0184eb3f",
   "metadata": {},
   "outputs": [],
   "source": [
    "root = \"https://api.propublica.org\"\n",
    "congress = '117'\n",
    "chamber = \"house\" \n",
    "endpoint = \"/congress/v1/{congress}/{chamber}/members.json\".format(congress = congress,\n",
    "                                                                   chamber = chamber)"
   ]
  },
  {
   "cell_type": "code",
   "execution_count": 43,
   "id": "466819c9-6c79-42a0-8abe-9e4c1bd9c1a3",
   "metadata": {},
   "outputs": [],
   "source": [
    "headers = {'X-API-Key': propublica_token,\n",
    "                     'User-agent': useragent,\n",
    "                     'From': 'nqj5zk@virginia.edu'} # Contact me"
   ]
  },
  {
   "cell_type": "code",
   "execution_count": 44,
   "id": "056a64c7-46d2-409f-b4e8-bd3a07bedb63",
   "metadata": {},
   "outputs": [],
   "source": [
    "propublica_token = os.environ['propub_token']"
   ]
  },
  {
   "cell_type": "code",
   "execution_count": 45,
   "id": "66244aff-70ca-4e16-b506-b41893abb347",
   "metadata": {},
   "outputs": [],
   "source": [
    "useragent_url = 'https://httpbin.org/user-agent'\n",
    "r = requests.get(useragent_url)\n",
    "useragent = json.loads(r.text)['user-agent']"
   ]
  },
  {
   "cell_type": "markdown",
   "id": "0d3ef257-6246-4a59-8dd6-c16c91801e3a",
   "metadata": {},
   "source": [
    "# Goal: Get Bills Sponsored by Bob Good"
   ]
  },
  {
   "cell_type": "markdown",
   "id": "f004caba-59de-4111-b5eb-dbb405e0e1a3",
   "metadata": {},
   "source": [
    "## 1. Get Bob Good's ID Number "
   ]
  },
  {
   "cell_type": "code",
   "execution_count": 53,
   "id": "4e82a999-090a-495f-b0c4-e903fa3db439",
   "metadata": {},
   "outputs": [
    {
     "data": {
      "text/plain": [
       "<Response [200]>"
      ]
     },
     "execution_count": 53,
     "metadata": {},
     "output_type": "execute_result"
    }
   ],
   "source": [
    "r = requests.get(root + endpoint,\n",
    "                headers = headers)\n",
    "myjson = json.loads(r.text)\n",
    "r"
   ]
  },
  {
   "cell_type": "code",
   "execution_count": 55,
   "id": "859b6c4c-7921-410a-bef5-e17d34fd4b90",
   "metadata": {},
   "outputs": [
    {
     "data": {
      "text/html": [
       "<div>\n",
       "<style scoped>\n",
       "    .dataframe tbody tr th:only-of-type {\n",
       "        vertical-align: middle;\n",
       "    }\n",
       "\n",
       "    .dataframe tbody tr th {\n",
       "        vertical-align: top;\n",
       "    }\n",
       "\n",
       "    .dataframe thead th {\n",
       "        text-align: right;\n",
       "    }\n",
       "</style>\n",
       "<table border=\"1\" class=\"dataframe\">\n",
       "  <thead>\n",
       "    <tr style=\"text-align: right;\">\n",
       "      <th></th>\n",
       "      <th>id</th>\n",
       "      <th>title</th>\n",
       "      <th>short_title</th>\n",
       "      <th>api_uri</th>\n",
       "      <th>first_name</th>\n",
       "      <th>middle_name</th>\n",
       "      <th>last_name</th>\n",
       "      <th>suffix</th>\n",
       "      <th>date_of_birth</th>\n",
       "      <th>gender</th>\n",
       "      <th>...</th>\n",
       "      <th>office</th>\n",
       "      <th>phone</th>\n",
       "      <th>fax</th>\n",
       "      <th>state</th>\n",
       "      <th>district</th>\n",
       "      <th>at_large</th>\n",
       "      <th>geoid</th>\n",
       "      <th>missed_votes_pct</th>\n",
       "      <th>votes_with_party_pct</th>\n",
       "      <th>votes_against_party_pct</th>\n",
       "    </tr>\n",
       "  </thead>\n",
       "  <tbody>\n",
       "    <tr>\n",
       "      <th>0</th>\n",
       "      <td>A000370</td>\n",
       "      <td>Representative</td>\n",
       "      <td>Rep.</td>\n",
       "      <td>https://api.propublica.org/congress/v1/members...</td>\n",
       "      <td>Alma</td>\n",
       "      <td>None</td>\n",
       "      <td>Adams</td>\n",
       "      <td>None</td>\n",
       "      <td>1946-05-27</td>\n",
       "      <td>F</td>\n",
       "      <td>...</td>\n",
       "      <td>2436 Rayburn House Office Building</td>\n",
       "      <td>202-225-1510</td>\n",
       "      <td>None</td>\n",
       "      <td>NC</td>\n",
       "      <td>12</td>\n",
       "      <td>False</td>\n",
       "      <td>3712</td>\n",
       "      <td>0.33</td>\n",
       "      <td>99.00</td>\n",
       "      <td>0.89</td>\n",
       "    </tr>\n",
       "    <tr>\n",
       "      <th>1</th>\n",
       "      <td>A000055</td>\n",
       "      <td>Representative</td>\n",
       "      <td>Rep.</td>\n",
       "      <td>https://api.propublica.org/congress/v1/members...</td>\n",
       "      <td>Robert</td>\n",
       "      <td>B.</td>\n",
       "      <td>Aderholt</td>\n",
       "      <td>None</td>\n",
       "      <td>1965-07-22</td>\n",
       "      <td>M</td>\n",
       "      <td>...</td>\n",
       "      <td>266 Cannon House Office Building</td>\n",
       "      <td>202-225-4876</td>\n",
       "      <td>None</td>\n",
       "      <td>AL</td>\n",
       "      <td>4</td>\n",
       "      <td>False</td>\n",
       "      <td>0104</td>\n",
       "      <td>1.55</td>\n",
       "      <td>96.27</td>\n",
       "      <td>3.62</td>\n",
       "    </tr>\n",
       "    <tr>\n",
       "      <th>2</th>\n",
       "      <td>A000371</td>\n",
       "      <td>Representative</td>\n",
       "      <td>Rep.</td>\n",
       "      <td>https://api.propublica.org/congress/v1/members...</td>\n",
       "      <td>Pete</td>\n",
       "      <td>None</td>\n",
       "      <td>Aguilar</td>\n",
       "      <td>None</td>\n",
       "      <td>1979-06-19</td>\n",
       "      <td>M</td>\n",
       "      <td>...</td>\n",
       "      <td>109 Cannon House Office Building</td>\n",
       "      <td>202-225-3201</td>\n",
       "      <td>None</td>\n",
       "      <td>CA</td>\n",
       "      <td>31</td>\n",
       "      <td>False</td>\n",
       "      <td>0631</td>\n",
       "      <td>0.33</td>\n",
       "      <td>98.89</td>\n",
       "      <td>1.00</td>\n",
       "    </tr>\n",
       "  </tbody>\n",
       "</table>\n",
       "<p>3 rows × 46 columns</p>\n",
       "</div>"
      ],
      "text/plain": [
       "        id           title short_title  \\\n",
       "0  A000370  Representative        Rep.   \n",
       "1  A000055  Representative        Rep.   \n",
       "2  A000371  Representative        Rep.   \n",
       "\n",
       "                                             api_uri first_name middle_name  \\\n",
       "0  https://api.propublica.org/congress/v1/members...       Alma        None   \n",
       "1  https://api.propublica.org/congress/v1/members...     Robert          B.   \n",
       "2  https://api.propublica.org/congress/v1/members...       Pete        None   \n",
       "\n",
       "  last_name suffix date_of_birth gender  ...  \\\n",
       "0     Adams   None    1946-05-27      F  ...   \n",
       "1  Aderholt   None    1965-07-22      M  ...   \n",
       "2   Aguilar   None    1979-06-19      M  ...   \n",
       "\n",
       "                               office         phone   fax state district  \\\n",
       "0  2436 Rayburn House Office Building  202-225-1510  None    NC       12   \n",
       "1    266 Cannon House Office Building  202-225-4876  None    AL        4   \n",
       "2    109 Cannon House Office Building  202-225-3201  None    CA       31   \n",
       "\n",
       "  at_large geoid missed_votes_pct votes_with_party_pct votes_against_party_pct  \n",
       "0    False  3712             0.33                99.00                    0.89  \n",
       "1    False  0104             1.55                96.27                    3.62  \n",
       "2    False  0631             0.33                98.89                    1.00  \n",
       "\n",
       "[3 rows x 46 columns]"
      ]
     },
     "execution_count": 55,
     "metadata": {},
     "output_type": "execute_result"
    }
   ],
   "source": [
    "membersdf = pd.json_normalize(myjson, record_path = \n",
    "                              ['results', 'members'])\n",
    "membersdf.head(3)"
   ]
  },
  {
   "cell_type": "code",
   "execution_count": 57,
   "id": "1f7006b7-d7f8-463b-8443-a0152066daba",
   "metadata": {},
   "outputs": [
    {
     "data": {
      "text/html": [
       "<div>\n",
       "<style scoped>\n",
       "    .dataframe tbody tr th:only-of-type {\n",
       "        vertical-align: middle;\n",
       "    }\n",
       "\n",
       "    .dataframe tbody tr th {\n",
       "        vertical-align: top;\n",
       "    }\n",
       "\n",
       "    .dataframe thead th {\n",
       "        text-align: right;\n",
       "    }\n",
       "</style>\n",
       "<table border=\"1\" class=\"dataframe\">\n",
       "  <thead>\n",
       "    <tr style=\"text-align: right;\">\n",
       "      <th></th>\n",
       "      <th>id</th>\n",
       "      <th>title</th>\n",
       "      <th>short_title</th>\n",
       "      <th>api_uri</th>\n",
       "      <th>first_name</th>\n",
       "      <th>middle_name</th>\n",
       "      <th>last_name</th>\n",
       "      <th>suffix</th>\n",
       "      <th>date_of_birth</th>\n",
       "      <th>gender</th>\n",
       "      <th>...</th>\n",
       "      <th>office</th>\n",
       "      <th>phone</th>\n",
       "      <th>fax</th>\n",
       "      <th>state</th>\n",
       "      <th>district</th>\n",
       "      <th>at_large</th>\n",
       "      <th>geoid</th>\n",
       "      <th>missed_votes_pct</th>\n",
       "      <th>votes_with_party_pct</th>\n",
       "      <th>votes_against_party_pct</th>\n",
       "    </tr>\n",
       "  </thead>\n",
       "  <tbody>\n",
       "    <tr>\n",
       "      <th>158</th>\n",
       "      <td>G000595</td>\n",
       "      <td>Representative</td>\n",
       "      <td>Rep.</td>\n",
       "      <td>https://api.propublica.org/congress/v1/members...</td>\n",
       "      <td>Robert</td>\n",
       "      <td>None</td>\n",
       "      <td>Good</td>\n",
       "      <td>None</td>\n",
       "      <td>1965-09-11</td>\n",
       "      <td>M</td>\n",
       "      <td>...</td>\n",
       "      <td>1213 Longworth House Office Building</td>\n",
       "      <td>202-225-4711</td>\n",
       "      <td>None</td>\n",
       "      <td>VA</td>\n",
       "      <td>5</td>\n",
       "      <td>False</td>\n",
       "      <td>5105</td>\n",
       "      <td>3.98</td>\n",
       "      <td>77.78</td>\n",
       "      <td>22.11</td>\n",
       "    </tr>\n",
       "  </tbody>\n",
       "</table>\n",
       "<p>1 rows × 46 columns</p>\n",
       "</div>"
      ],
      "text/plain": [
       "          id           title short_title  \\\n",
       "158  G000595  Representative        Rep.   \n",
       "\n",
       "                                               api_uri first_name middle_name  \\\n",
       "158  https://api.propublica.org/congress/v1/members...     Robert        None   \n",
       "\n",
       "    last_name suffix date_of_birth gender  ...  \\\n",
       "158      Good   None    1965-09-11      M  ...   \n",
       "\n",
       "                                   office         phone   fax state district  \\\n",
       "158  1213 Longworth House Office Building  202-225-4711  None    VA        5   \n",
       "\n",
       "    at_large geoid missed_votes_pct votes_with_party_pct  \\\n",
       "158    False  5105             3.98                77.78   \n",
       "\n",
       "    votes_against_party_pct  \n",
       "158                   22.11  \n",
       "\n",
       "[1 rows x 46 columns]"
      ]
     },
     "execution_count": 57,
     "metadata": {},
     "output_type": "execute_result"
    }
   ],
   "source": [
    "bobgood=membersdf.query(\"last_name == 'Good'\")\n",
    "bobgood"
   ]
  },
  {
   "cell_type": "markdown",
   "id": "e455e28e-e6a6-44b0-98de-bc2cf67e92d9",
   "metadata": {},
   "source": [
    "## Step 2: Use Bob Good's ID to Query Bills API"
   ]
  },
  {
   "cell_type": "code",
   "execution_count": 58,
   "id": "32e6f000-e6bc-432d-8419-938b8b20e884",
   "metadata": {},
   "outputs": [
    {
     "data": {
      "text/plain": [
       "158    G000595\n",
       "Name: id, dtype: object"
      ]
     },
     "execution_count": 58,
     "metadata": {},
     "output_type": "execute_result"
    }
   ],
   "source": [
    "bobgood['id']"
   ]
  },
  {
   "cell_type": "code",
   "execution_count": 67,
   "id": "62be5f30-54c5-4b0c-b207-b835c374618c",
   "metadata": {},
   "outputs": [
    {
     "data": {
      "text/plain": [
       "'G000595'"
      ]
     },
     "execution_count": 67,
     "metadata": {},
     "output_type": "execute_result"
    }
   ],
   "source": [
    "bobgoodid = bobgood.reset_index()['id'][0]\n",
    "bobgoodid"
   ]
  },
  {
   "cell_type": "code",
   "execution_count": 68,
   "id": "da7cb8b0-e39f-4725-8508-99ff95001c7a",
   "metadata": {},
   "outputs": [
    {
     "data": {
      "text/plain": [
       "{'message': 'Missing Authentication Token'}"
      ]
     },
     "execution_count": 68,
     "metadata": {},
     "output_type": "execute_result"
    }
   ],
   "source": [
    "endpoint = \"/congress/v1/member/{memberid}/bills/{billtype}/.json\".format(memberid = bobgoodid,\n",
    "                                                                         billtype = \"introduced\")\n",
    "\n",
    "r= requests.get(root + endpoint,\n",
    "               headers = headers)\n",
    "myjson = json.loads(r.text)\n",
    "myjson"
   ]
  },
  {
   "cell_type": "code",
   "execution_count": 65,
   "id": "639160ed-72c4-4c78-ae72-89dc72e80e5a",
   "metadata": {},
   "outputs": [
    {
     "ename": "SyntaxError",
     "evalue": "invalid syntax (3390530344.py, line 2)",
     "output_type": "error",
     "traceback": [
      "\u001b[0;36m  Cell \u001b[0;32mIn [65], line 2\u001b[0;36m\u001b[0m\n\u001b[0;31m    params = 'offset':20)\u001b[0m\n\u001b[0m                     ^\u001b[0m\n\u001b[0;31mSyntaxError\u001b[0m\u001b[0;31m:\u001b[0m invalid syntax\n"
     ]
    }
   ],
   "source": [
    "r= requests.get(root + endpoint,\n",
    "               params = 'offset':20)\n",
    "\n",
    "myjson = json.loads(r.text)\n",
    "bgbills2 =pd.json_normalize(myjson, record_path =[\"results\", \"bills\"])"
   ]
  },
  {
   "cell_type": "code",
   "execution_count": 35,
   "id": "0568c651-665d-4105-946e-e3e98150b027",
   "metadata": {},
   "outputs": [
    {
     "ename": "TypeError",
     "evalue": "cannot unpack non-iterable bool object",
     "output_type": "error",
     "traceback": [
      "\u001b[0;31m---------------------------------------------------------------------------\u001b[0m",
      "\u001b[0;31mTypeError\u001b[0m                                 Traceback (most recent call last)",
      "Cell \u001b[0;32mIn [35], line 1\u001b[0m\n\u001b[0;32m----> 1\u001b[0m bgbills \u001b[38;5;241m=\u001b[39m pd\u001b[38;5;241m.\u001b[39mconcat[bgbills1, bgbills2], ignore_index\u001b[38;5;241m=\u001b[39m\u001b[38;5;28;01mTrue\u001b[39;00m\n\u001b[1;32m      2\u001b[0m bgbills\n",
      "\u001b[0;31mTypeError\u001b[0m: cannot unpack non-iterable bool object"
     ]
    }
   ],
   "source": [
    "bgbills = pd.concat[bgbills1, bgbills2], ignore_index=True\n",
    "bgbills"
   ]
  },
  {
   "cell_type": "code",
   "execution_count": 37,
   "id": "80bcd938-dc6d-4212-9741-004a60b6b648",
   "metadata": {},
   "outputs": [
    {
     "ename": "TypeError",
     "evalue": "'bool' object is not subscriptable",
     "output_type": "error",
     "traceback": [
      "\u001b[0;31m---------------------------------------------------------------------------\u001b[0m",
      "\u001b[0;31mTypeError\u001b[0m                                 Traceback (most recent call last)",
      "Cell \u001b[0;32mIn [37], line 1\u001b[0m\n\u001b[0;32m----> 1\u001b[0m urltoscrape \u001b[38;5;241m=\u001b[39m bgbills[\u001b[38;5;124m'\u001b[39m\u001b[38;5;124mcongressdotgov_url\u001b[39m\u001b[38;5;124m'\u001b[39m][\u001b[38;5;241m11\u001b[39m]\n",
      "\u001b[0;31mTypeError\u001b[0m: 'bool' object is not subscriptable"
     ]
    }
   ],
   "source": [
    "urltoscrape = bgbills['congressdotgov_url'][11]"
   ]
  },
  {
   "cell_type": "raw",
   "id": "e82ec5be-cb33-407d-bef7-82b23e367960",
   "metadata": {},
   "source": [
    "https://www.congress.gov/bill/117th-congress/house-bill/5731/"
   ]
  },
  {
   "cell_type": "code",
   "execution_count": null,
   "id": "6796e675-9373-4570-8312-3639a6a8dba5",
   "metadata": {},
   "outputs": [],
   "source": [
    "r = requests.get(urltoscrape,\n",
    "                headers = {'User-Agent':useragent,\n",
    "                          'From': 'nqj5zk@virginia.edu'})\n",
    "myhtml = BeautifulSoup(r.text, 'html.parser')"
   ]
  },
  {
   "cell_type": "code",
   "execution_count": null,
   "id": "80a3124d-661e-48e1-9918-4b7c3ad43548",
   "metadata": {},
   "outputs": [],
   "source": [
    "#Find all finds all of the paragraphs on the website\n",
    "myhtml.find_all('p', \"lbexIndent\", style=\"text-align:left\")[0].text"
   ]
  },
  {
   "cell_type": "code",
   "execution_count": null,
   "id": "354e7a87-fc91-4e83-9da9-0fc0e36e3373",
   "metadata": {},
   "outputs": [],
   "source": []
  }
 ],
 "metadata": {
  "kernelspec": {
   "display_name": "Python 3 (ipykernel)",
   "language": "python",
   "name": "python3"
  },
  "language_info": {
   "codemirror_mode": {
    "name": "ipython",
    "version": 3
   },
   "file_extension": ".py",
   "mimetype": "text/x-python",
   "name": "python",
   "nbconvert_exporter": "python",
   "pygments_lexer": "ipython3",
   "version": "3.10.7"
  }
 },
 "nbformat": 4,
 "nbformat_minor": 5
}
