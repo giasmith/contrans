{
 "cells": [
  {
   "cell_type": "code",
   "execution_count": 23,
   "id": "3ce322e3-2220-487c-b032-971771f2afa9",
   "metadata": {},
   "outputs": [],
   "source": [
    "import pandas as pd\n",
    "import numpy as np\n",
    "import requests\n",
    "import os \n",
    "import json\n",
    "from bs4 import BeautifulSoup\n",
    "import collections\n",
    "collections.Callable = collections.abc.Callable"
   ]
  },
  {
   "cell_type": "raw",
   "id": "3915f97a-d29d-4205-9903-20772913870b",
   "metadata": {},
   "source": [
    "Link: https://projects.propublica.org/api-docs/congress-api/bills/"
   ]
  },
  {
   "cell_type": "code",
   "execution_count": 7,
   "id": "859b6c4c-7921-410a-bef5-e17d34fd4b90",
   "metadata": {},
   "outputs": [
    {
     "data": {
      "text/plain": [
       "'python-requests/2.28.1'"
      ]
     },
     "execution_count": 7,
     "metadata": {},
     "output_type": "execute_result"
    }
   ],
   "source": [
    "propublica_token = os.environ['propub_token']\n",
    "\n",
    "useragent_url = 'https://httpbin.org/user-agent'\n",
    "r = requests.get(useragent_url)\n",
    "useragent = json.loads(r.text)['user-agent']\n",
    "useragent"
   ]
  },
  {
   "cell_type": "markdown",
   "id": "f004caba-59de-4111-b5eb-dbb405e0e1a3",
   "metadata": {},
   "source": [
    "## Get Bob Good's ID Number "
   ]
  },
  {
   "cell_type": "code",
   "execution_count": 4,
   "id": "6181349d-31d6-4c73-9822-053a0184eb3f",
   "metadata": {},
   "outputs": [],
   "source": [
    "root = \"https://api.propublica.org\"\n",
    "congress = 117\n",
    "chamber = \"house\"\n",
    "endpoint = \"/congress/v1/{congress}/{chamber}/members.json\""
   ]
  },
  {
   "cell_type": "code",
   "execution_count": 8,
   "id": "466819c9-6c79-42a0-8abe-9e4c1bd9c1a3",
   "metadata": {},
   "outputs": [],
   "source": [
    "headers = {'X-API-Key': propublica_token,\n",
    "          'User-agent': useragent,\n",
    "          'From': 'nqj5zk@virginia.edu'} # Contact me"
   ]
  },
  {
   "cell_type": "code",
   "execution_count": 9,
   "id": "792c4e4a-a8d0-49fd-918c-4e295ca34366",
   "metadata": {},
   "outputs": [
    {
     "ename": "KeyError",
     "evalue": "'results'",
     "output_type": "error",
     "traceback": [
      "\u001b[0;31m---------------------------------------------------------------------------\u001b[0m",
      "\u001b[0;31mKeyError\u001b[0m                                  Traceback (most recent call last)",
      "Cell \u001b[0;32mIn [9], line 2\u001b[0m\n\u001b[1;32m      1\u001b[0m myjson \u001b[38;5;241m=\u001b[39m json\u001b[38;5;241m.\u001b[39mloads(r\u001b[38;5;241m.\u001b[39mtext)\n\u001b[0;32m----> 2\u001b[0m members \u001b[38;5;241m=\u001b[39m \u001b[43mpd\u001b[49m\u001b[38;5;241;43m.\u001b[39;49m\u001b[43mjson_normalize\u001b[49m\u001b[43m(\u001b[49m\u001b[43mmyjson\u001b[49m\u001b[43m,\u001b[49m\u001b[43m \u001b[49m\u001b[43mrecord_path\u001b[49m\u001b[43m \u001b[49m\u001b[38;5;241;43m=\u001b[39;49m\u001b[43m \u001b[49m\u001b[43m[\u001b[49m\u001b[38;5;124;43m'\u001b[39;49m\u001b[38;5;124;43mresults\u001b[39;49m\u001b[38;5;124;43m'\u001b[39;49m\u001b[43m,\u001b[49m\u001b[43m \u001b[49m\u001b[38;5;124;43m'\u001b[39;49m\u001b[38;5;124;43mmembers\u001b[39;49m\u001b[38;5;124;43m'\u001b[39;49m\u001b[43m]\u001b[49m\u001b[43m)\u001b[49m\n\u001b[1;32m      3\u001b[0m members\n",
      "File \u001b[0;32m/usr/local/lib/python3.10/site-packages/pandas/io/json/_normalize.py:515\u001b[0m, in \u001b[0;36m_json_normalize\u001b[0;34m(data, record_path, meta, meta_prefix, record_prefix, errors, sep, max_level)\u001b[0m\n\u001b[1;32m    512\u001b[0m                 meta_vals[key]\u001b[38;5;241m.\u001b[39mappend(meta_val)\n\u001b[1;32m    513\u001b[0m             records\u001b[38;5;241m.\u001b[39mextend(recs)\n\u001b[0;32m--> 515\u001b[0m \u001b[43m_recursive_extract\u001b[49m\u001b[43m(\u001b[49m\u001b[43mdata\u001b[49m\u001b[43m,\u001b[49m\u001b[43m \u001b[49m\u001b[43mrecord_path\u001b[49m\u001b[43m,\u001b[49m\u001b[43m \u001b[49m\u001b[43m{\u001b[49m\u001b[43m}\u001b[49m\u001b[43m,\u001b[49m\u001b[43m \u001b[49m\u001b[43mlevel\u001b[49m\u001b[38;5;241;43m=\u001b[39;49m\u001b[38;5;241;43m0\u001b[39;49m\u001b[43m)\u001b[49m\n\u001b[1;32m    517\u001b[0m result \u001b[38;5;241m=\u001b[39m DataFrame(records)\n\u001b[1;32m    519\u001b[0m \u001b[38;5;28;01mif\u001b[39;00m record_prefix \u001b[38;5;129;01mis\u001b[39;00m \u001b[38;5;129;01mnot\u001b[39;00m \u001b[38;5;28;01mNone\u001b[39;00m:\n\u001b[1;32m    520\u001b[0m     \u001b[38;5;66;03m# Incompatible types in assignment (expression has type \"Optional[DataFrame]\",\u001b[39;00m\n\u001b[1;32m    521\u001b[0m     \u001b[38;5;66;03m# variable has type \"DataFrame\")\u001b[39;00m\n",
      "File \u001b[0;32m/usr/local/lib/python3.10/site-packages/pandas/io/json/_normalize.py:494\u001b[0m, in \u001b[0;36m_json_normalize.<locals>._recursive_extract\u001b[0;34m(data, path, seen_meta, level)\u001b[0m\n\u001b[1;32m    491\u001b[0m             \u001b[38;5;28;01mif\u001b[39;00m level \u001b[38;5;241m+\u001b[39m \u001b[38;5;241m1\u001b[39m \u001b[38;5;241m==\u001b[39m \u001b[38;5;28mlen\u001b[39m(val):\n\u001b[1;32m    492\u001b[0m                 seen_meta[key] \u001b[38;5;241m=\u001b[39m _pull_field(obj, val[\u001b[38;5;241m-\u001b[39m\u001b[38;5;241m1\u001b[39m])\n\u001b[0;32m--> 494\u001b[0m         _recursive_extract(\u001b[43mobj\u001b[49m\u001b[43m[\u001b[49m\u001b[43mpath\u001b[49m\u001b[43m[\u001b[49m\u001b[38;5;241;43m0\u001b[39;49m\u001b[43m]\u001b[49m\u001b[43m]\u001b[49m, path[\u001b[38;5;241m1\u001b[39m:], seen_meta, level\u001b[38;5;241m=\u001b[39mlevel \u001b[38;5;241m+\u001b[39m \u001b[38;5;241m1\u001b[39m)\n\u001b[1;32m    495\u001b[0m \u001b[38;5;28;01melse\u001b[39;00m:\n\u001b[1;32m    496\u001b[0m     \u001b[38;5;28;01mfor\u001b[39;00m obj \u001b[38;5;129;01min\u001b[39;00m data:\n",
      "\u001b[0;31mKeyError\u001b[0m: 'results'"
     ]
    }
   ],
   "source": [
    "myjson = json.loads(r.text)\n",
    "members = pd.json_normalize(myjson, record_path = ['results', 'members'])\n",
    "members"
   ]
  },
  {
   "cell_type": "markdown",
   "id": "e455e28e-e6a6-44b0-98de-bc2cf67e92d9",
   "metadata": {},
   "source": [
    "## Step 2: Use Bob Good's ID to Query Bills API"
   ]
  },
  {
   "cell_type": "code",
   "execution_count": 14,
   "id": "da7cb8b0-e39f-4725-8508-99ff95001c7a",
   "metadata": {},
   "outputs": [
    {
     "ename": "NameError",
     "evalue": "name 'bobgoodid' is not defined",
     "output_type": "error",
     "traceback": [
      "\u001b[0;31m---------------------------------------------------------------------------\u001b[0m",
      "\u001b[0;31mNameError\u001b[0m                                 Traceback (most recent call last)",
      "Cell \u001b[0;32mIn [14], line 1\u001b[0m\n\u001b[0;32m----> 1\u001b[0m endpoint \u001b[38;5;241m=\u001b[39m \u001b[38;5;124m\"\u001b[39m\u001b[38;5;124m/congress/v1/member/\u001b[39m\u001b[38;5;132;01m{memberid}\u001b[39;00m\u001b[38;5;124m/bills/\u001b[39m\u001b[38;5;132;01m{billtype}\u001b[39;00m\u001b[38;5;124m/.json\u001b[39m\u001b[38;5;124m\"\u001b[39m\u001b[38;5;241m.\u001b[39mformat(memberid \u001b[38;5;241m=\u001b[39m \u001b[43mbobgoodid\u001b[49m,\n\u001b[1;32m      2\u001b[0m                                                                          billtype \u001b[38;5;241m=\u001b[39m \u001b[38;5;124m\"\u001b[39m\u001b[38;5;124mintroduced\u001b[39m\u001b[38;5;124m\"\u001b[39m)\n\u001b[1;32m      4\u001b[0m r\u001b[38;5;241m=\u001b[39m requests\u001b[38;5;241m.\u001b[39mget(root \u001b[38;5;241m+\u001b[39m endpoint,\n\u001b[1;32m      5\u001b[0m                 header \u001b[38;5;241m=\u001b[39m headers)\n\u001b[1;32m      7\u001b[0m myjson \u001b[38;5;241m=\u001b[39m json\u001b[38;5;241m.\u001b[39mloads(r\u001b[38;5;241m.\u001b[39mtext)\n",
      "\u001b[0;31mNameError\u001b[0m: name 'bobgoodid' is not defined"
     ]
    }
   ],
   "source": [
    "endpoint = \"/congress/v1/member/{memberid}/bills/{billtype}/.json\".format(memberid = bobgoodid,\n",
    "                                                                         billtype = \"introduced\")\n",
    "\n",
    "r= requests.get(root + endpoint,\n",
    "                header = headers)\n",
    "\n",
    "myjson = json.loads(r.text)\n",
    "bgbills1 =pd.json_normalize(myjson, record_path =[\"results\", \"bills\"])"
   ]
  },
  {
   "cell_type": "code",
   "execution_count": 15,
   "id": "639160ed-72c4-4c78-ae72-89dc72e80e5a",
   "metadata": {},
   "outputs": [
    {
     "ename": "SyntaxError",
     "evalue": "invalid syntax. Perhaps you forgot a comma? (3061643901.py, line 2)",
     "output_type": "error",
     "traceback": [
      "\u001b[0;36m  Cell \u001b[0;32mIn [15], line 2\u001b[0;36m\u001b[0m\n\u001b[0;31m    header = headers\u001b[0m\n\u001b[0m             ^\u001b[0m\n\u001b[0;31mSyntaxError\u001b[0m\u001b[0;31m:\u001b[0m invalid syntax. Perhaps you forgot a comma?\n"
     ]
    }
   ],
   "source": [
    "r= requests.get(root + endpoint,\n",
    "                header = headers\n",
    "               params = 'offset':20)\n",
    "\n",
    "myjson = json.loads(r.text)\n",
    "bgbills2 =pd.json_normalize(myjson, record_path =[\"results\", \"bills\"])"
   ]
  },
  {
   "cell_type": "code",
   "execution_count": 16,
   "id": "0568c651-665d-4105-946e-e3e98150b027",
   "metadata": {},
   "outputs": [
    {
     "ename": "TypeError",
     "evalue": "cannot unpack non-iterable bool object",
     "output_type": "error",
     "traceback": [
      "\u001b[0;31m---------------------------------------------------------------------------\u001b[0m",
      "\u001b[0;31mTypeError\u001b[0m                                 Traceback (most recent call last)",
      "Cell \u001b[0;32mIn [16], line 1\u001b[0m\n\u001b[0;32m----> 1\u001b[0m bgbills \u001b[38;5;241m=\u001b[39m pd\u001b[38;5;241m.\u001b[39mconcat[bgbills1, bgbills2], ignore_index\u001b[38;5;241m=\u001b[39m\u001b[38;5;28;01mTrue\u001b[39;00m\n\u001b[1;32m      2\u001b[0m bgbills\n",
      "\u001b[0;31mTypeError\u001b[0m: cannot unpack non-iterable bool object"
     ]
    }
   ],
   "source": [
    "bgbills = pd.concat[bgbills1, bgbills2], ignore_index=True\n",
    "bgbills"
   ]
  },
  {
   "cell_type": "code",
   "execution_count": 20,
   "id": "80bcd938-dc6d-4212-9741-004a60b6b648",
   "metadata": {},
   "outputs": [
    {
     "ename": "TypeError",
     "evalue": "'bool' object is not subscriptable",
     "output_type": "error",
     "traceback": [
      "\u001b[0;31m---------------------------------------------------------------------------\u001b[0m",
      "\u001b[0;31mTypeError\u001b[0m                                 Traceback (most recent call last)",
      "Cell \u001b[0;32mIn [20], line 1\u001b[0m\n\u001b[0;32m----> 1\u001b[0m urltoscrap \u001b[38;5;241m=\u001b[39m \u001b[43mbgbills\u001b[49m\u001b[43m[\u001b[49m\u001b[38;5;124;43m'\u001b[39;49m\u001b[38;5;124;43mcongressdotgov_url\u001b[39;49m\u001b[38;5;124;43m'\u001b[39;49m\u001b[43m]\u001b[49m[\u001b[38;5;241m10\u001b[39m]\n",
      "\u001b[0;31mTypeError\u001b[0m: 'bool' object is not subscriptable"
     ]
    }
   ],
   "source": [
    "urltoscrape = bgbills['congressdotgov_url'][11]+'/text'"
   ]
  },
  {
   "cell_type": "code",
   "execution_count": 25,
   "id": "6796e675-9373-4570-8312-3639a6a8dba5",
   "metadata": {},
   "outputs": [
    {
     "ename": "NameError",
     "evalue": "name 'urltoscrape' is not defined",
     "output_type": "error",
     "traceback": [
      "\u001b[0;31m---------------------------------------------------------------------------\u001b[0m",
      "\u001b[0;31mNameError\u001b[0m                                 Traceback (most recent call last)",
      "Cell \u001b[0;32mIn [25], line 1\u001b[0m\n\u001b[0;32m----> 1\u001b[0m r \u001b[38;5;241m=\u001b[39m requests\u001b[38;5;241m.\u001b[39mget(\u001b[43murltoscrape\u001b[49m,\n\u001b[1;32m      2\u001b[0m                 headers \u001b[38;5;241m=\u001b[39m {\u001b[38;5;124m'\u001b[39m\u001b[38;5;124mUser-Agent\u001b[39m\u001b[38;5;124m'\u001b[39m:useragent,\n\u001b[1;32m      3\u001b[0m                           \u001b[38;5;124m'\u001b[39m\u001b[38;5;124mFrom\u001b[39m\u001b[38;5;124m'\u001b[39m: \u001b[38;5;124m'\u001b[39m\u001b[38;5;124mnqj5zk@virginia.edu\u001b[39m\u001b[38;5;124m'\u001b[39m})\n\u001b[1;32m      4\u001b[0m myhtml \u001b[38;5;241m=\u001b[39m BeautifulSoup(r\u001b[38;5;241m.\u001b[39mtext, \u001b[38;5;124m'\u001b[39m\u001b[38;5;124mhtml.parser\u001b[39m\u001b[38;5;124m'\u001b[39m)\n",
      "\u001b[0;31mNameError\u001b[0m: name 'urltoscrape' is not defined"
     ]
    }
   ],
   "source": [
    "r = requests.get(urltoscrape,\n",
    "                headers = {'User-Agent':useragent,\n",
    "                          'From': 'nqj5zk@virginia.edu'})\n",
    "myhtml = BeautifulSoup(r.text, 'html.parser')"
   ]
  },
  {
   "cell_type": "code",
   "execution_count": null,
   "id": "80a3124d-661e-48e1-9918-4b7c3ad43548",
   "metadata": {},
   "outputs": [
    {
     "ename": "NameError",
     "evalue": "name 'myhtml' is not defined",
     "output_type": "error",
     "traceback": [
      "\u001b[0;31m---------------------------------------------------------------------------\u001b[0m",
      "\u001b[0;31mNameError\u001b[0m                                 Traceback (most recent call last)",
      "Cell \u001b[0;32mIn [26], line 1\u001b[0m\n\u001b[0;32m----> 1\u001b[0m \u001b[43mmyhtml\u001b[49m\u001b[38;5;241m.\u001b[39mfind_all(\u001b[38;5;124m'\u001b[39m\u001b[38;5;124mp\u001b[39m\u001b[38;5;124m'\u001b[39m)\n",
      "\u001b[0;31mNameError\u001b[0m: name 'myhtml' is not defined"
     ]
    }
   ],
   "source": [
    "#Find all finds all of the paragraphs on the website\n",
    "myhtml.find_all('p', \"lbexIndent\", style=\"text-align:left\")[0].text"
   ]
  },
  {
   "cell_type": "code",
   "execution_count": null,
   "id": "354e7a87-fc91-4e83-9da9-0fc0e36e3373",
   "metadata": {},
   "outputs": [],
   "source": []
  }
 ],
 "metadata": {
  "kernelspec": {
   "display_name": "Python 3 (ipykernel)",
   "language": "python",
   "name": "python3"
  },
  "language_info": {
   "codemirror_mode": {
    "name": "ipython",
    "version": 3
   },
   "file_extension": ".py",
   "mimetype": "text/x-python",
   "name": "python",
   "nbconvert_exporter": "python",
   "pygments_lexer": "ipython3",
   "version": "3.10.7"
  }
 },
 "nbformat": 4,
 "nbformat_minor": 5
}
