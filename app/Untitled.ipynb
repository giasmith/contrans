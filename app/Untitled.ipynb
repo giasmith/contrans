{
 "cells": [
  {
   "cell_type": "code",
   "execution_count": 2,
   "id": "515ef414-134a-4b5f-9000-ff84d2d99743",
   "metadata": {},
   "outputs": [],
   "source": [
    "import numpy as np\n",
    "import pandas as pd\n",
    "import requests\n",
    "import json\n",
    "import psycopg2\n",
    "from sqlalchemy import create_engine\n",
    "import os\n",
    "import pymongo\n",
    "propublica_token = os.environ['propub_token']\n",
    "postgres_password = os.environ['POSTGRES_PASSWORD']\n",
    "mongo_username = os.environ['MONGO_INITDB_ROOT_USERNAME']\n",
    "mongo_password = os.environ['MONGO_INITDB_ROOT_PASSWORD']\n",
    "mongo_init_db = os.environ['MONGO_INITDB_DATABASE']\n",
    "import getdata\n",
    "members_vv, cvote_vv, memvotes_vv = getdata.get_voteview()\n",
    "useragent = getdata.get_useragent()\n",
    "members_pp = getdata.get_propublica(propublica_token, useragent, email='jkropko@virginia.edu')\n",
    "members = getdata.merge_members(members_pp=members_pp, members_vv=members_vv)\n",
    "members.head(1).T\n",
    "members['propublica_id'].isna().value_counts()\n",
    "cvote_vv.head(1).T\n",
    "memvotes_vv.head(1).T\n",
    "server = psycopg2.connect(\n",
    "    user = 'postgres',\n",
    "    password = postgres_password,\n",
    "    host = 'postgres',\n",
    "    port = '5432')\n",
    "server.autocommit = True\n",
    "cursor = server.cursor()\n",
    "try:\n",
    "    cursor.execute(\"CREATE DATABASE contrans\")\n",
    "except:\n",
    "    cursor.execute(\"DROP DATABASE contrans\")\n",
    "    cursor.execute(\"CREATE DATABASE contrans\")\n",
    "\n",
    "engine = create_engine('postgresql+psycopg2://{user}:{password}@{host}:{port}/{db}'.format(\n",
    "    user = 'postgres',\n",
    "    password = postgres_password,\n",
    "    host = 'postgres',\n",
    "    port = '5432',\n",
    "    db = 'contrans'))\n",
    "members.to_sql('members', con=engine, if_exists='replace', index=False, chunksize=1000)\n",
    "memvotes_vv.to_sql('member_vote', con=engine, if_exists='replace', index=False, chunksize=1000)\n",
    "cvote_vv.to_sql('rollcalls', con=engine, if_exists='replace', index=False, chunksize=1000)\n",
    "\n",
    "myquery = '''\n",
    "SELECT * FROM members\n",
    "'''\n",
    "rollcall = pd.read_sql(myquery, con=engine)\n",
    "rollcall.head(1).T\n",
    "\n",
    "bills, num_results = getdata.get_bills_pp(propublica_token, useragent, email='jkropko@virginia.edu')"
   ]
  }
 ],
 "metadata": {
  "kernelspec": {
   "display_name": "Python 3 (ipykernel)",
   "language": "python",
   "name": "python3"
  },
  "language_info": {
   "codemirror_mode": {
    "name": "ipython",
    "version": 3
   },
   "file_extension": ".py",
   "mimetype": "text/x-python",
   "name": "python",
   "nbconvert_exporter": "python",
   "pygments_lexer": "ipython3",
   "version": "3.10.7"
  }
 },
 "nbformat": 4,
 "nbformat_minor": 5
}
