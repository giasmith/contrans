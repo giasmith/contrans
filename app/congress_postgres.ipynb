{
 "cells": [
  {
   "cell_type": "code",
   "execution_count": 1,
   "id": "4fa98645-1c02-4078-b7ba-7fb551cf475f",
   "metadata": {},
   "outputs": [],
   "source": [
    "import pandas as pd\n",
    "import numpy as np\n",
    "import requests\n",
    "import os \n",
    "import json\n",
    "import psycopg2\n",
    "from sqlalchemy import create_engine\n",
    "import sqlite3"
   ]
  },
  {
   "cell_type": "code",
   "execution_count": 2,
   "id": "89f5de8d-aca9-42a7-aed5-b576795e9f75",
   "metadata": {},
   "outputs": [],
   "source": [
    "postgres_password = os.environ['POSTGRES_PASSWORD']"
   ]
  },
  {
   "cell_type": "code",
   "execution_count": 3,
   "id": "78797212-4ed2-4421-b07f-4058b5ce9a63",
   "metadata": {},
   "outputs": [],
   "source": [
    "server = psycopg2.connect(\n",
    "    user='postgres',\n",
    "    password=postgres_password,\n",
    "    host='postgres',\n",
    "    port='5432'\n",
    ")\n",
    "server.autocommit=True"
   ]
  },
  {
   "cell_type": "code",
   "execution_count": 4,
   "id": "6c757003-2cd7-4107-9a0b-1365093454c1",
   "metadata": {},
   "outputs": [],
   "source": [
    "cursor = server.cursor()"
   ]
  },
  {
   "cell_type": "code",
   "execution_count": 5,
   "id": "7b5ec5fa-eb30-4131-a074-9e3d83d752aa",
   "metadata": {},
   "outputs": [
    {
     "ename": "ObjectInUse",
     "evalue": "database \"contrans\" is being accessed by other users\nDETAIL:  There is 1 other session using the database.\n",
     "output_type": "error",
     "traceback": [
      "\u001b[0;31m---------------------------------------------------------------------------\u001b[0m",
      "\u001b[0;31mDuplicateDatabase\u001b[0m                         Traceback (most recent call last)",
      "Cell \u001b[0;32mIn[5], line 2\u001b[0m\n\u001b[1;32m      1\u001b[0m \u001b[38;5;28;01mtry\u001b[39;00m:\n\u001b[0;32m----> 2\u001b[0m     \u001b[43mcursor\u001b[49m\u001b[38;5;241;43m.\u001b[39;49m\u001b[43mexecute\u001b[49m\u001b[43m(\u001b[49m\u001b[38;5;124;43m\"\u001b[39;49m\u001b[38;5;124;43mCREATE DATABASE contrans\u001b[39;49m\u001b[38;5;124;43m\"\u001b[39;49m\u001b[43m)\u001b[49m\n\u001b[1;32m      3\u001b[0m \u001b[38;5;28;01mexcept\u001b[39;00m:\n",
      "\u001b[0;31mDuplicateDatabase\u001b[0m: database \"contrans\" already exists\n",
      "\nDuring handling of the above exception, another exception occurred:\n",
      "\u001b[0;31mObjectInUse\u001b[0m                               Traceback (most recent call last)",
      "Cell \u001b[0;32mIn[5], line 4\u001b[0m\n\u001b[1;32m      2\u001b[0m     cursor\u001b[38;5;241m.\u001b[39mexecute(\u001b[38;5;124m\"\u001b[39m\u001b[38;5;124mCREATE DATABASE contrans\u001b[39m\u001b[38;5;124m\"\u001b[39m)\n\u001b[1;32m      3\u001b[0m \u001b[38;5;28;01mexcept\u001b[39;00m:\n\u001b[0;32m----> 4\u001b[0m     \u001b[43mcursor\u001b[49m\u001b[38;5;241;43m.\u001b[39;49m\u001b[43mexecute\u001b[49m\u001b[43m(\u001b[49m\u001b[38;5;124;43m\"\u001b[39;49m\u001b[38;5;124;43mDROP DATABASE contrans\u001b[39;49m\u001b[38;5;124;43m\"\u001b[39;49m\u001b[43m)\u001b[49m\n\u001b[1;32m      5\u001b[0m     cursor\u001b[38;5;241m.\u001b[39mexecute(\u001b[38;5;124m\"\u001b[39m\u001b[38;5;124mCREATE DATABASE contrans\u001b[39m\u001b[38;5;124m\"\u001b[39m)\n",
      "\u001b[0;31mObjectInUse\u001b[0m: database \"contrans\" is being accessed by other users\nDETAIL:  There is 1 other session using the database.\n"
     ]
    }
   ],
   "source": [
    "try:\n",
    "    cursor.execute(\"CREATE DATABASE contrans\")\n",
    "except:\n",
    "    cursor.execute(\"DROP DATABASE contrans\")\n",
    "    cursor.execute(\"CREATE DATABASE contrans\")"
   ]
  },
  {
   "cell_type": "markdown",
   "id": "03bf1668-fd04-4c68-ba09-4932500f8b1d",
   "metadata": {},
   "source": [
    "## Add Data to contans DB"
   ]
  },
  {
   "cell_type": "code",
   "execution_count": null,
   "id": "20c03535-d85c-40dd-99f9-65fb8f365d70",
   "metadata": {},
   "outputs": [],
   "source": [
    "engine = create_engine('postgres+sql+psycopg2://{user}:{password}@{host}:{port}/{db}'.format(\n",
    "    user='postgres',\n",
    "    password=postgres_password,\n",
    "    host='postgres',\n",
    "    port='5432',\n",
    "    db='contrans'\n",
    "))"
   ]
  },
  {
   "cell_type": "code",
   "execution_count": null,
   "id": "abfd7b3c-9868-4986-8552-b0ffaaa1a1ba",
   "metadata": {},
   "outputs": [],
   "source": [
    "members.to_sql('members', con=engine, if_exists='replace', index=False, chunksize=1000)\n",
    "memvotes_vv.to_sql('member_vote', con=engine, if_exists='replace', index=False, chunksize=1000)\n",
    "cvote_vv.to_sql('rollcalls', con=engine, if_exists='replace', index=False, chunksize=1000)\n",
    "\n",
    "myquery = '''\n",
    "SELECT * FROM members\n",
    "'''\n",
    "rollcall = pd.read_sql(myquery, con=engine)\n",
    "rollcall.head(1).T\n",
    "\n",
    "bills, num_results = getdata.get_bills_pp(propublica_token, useragent, email='jkropko@virginia.edu')"
   ]
  }
 ],
 "metadata": {
  "kernelspec": {
   "display_name": "Python 3 (ipykernel)",
   "language": "python",
   "name": "python3"
  },
  "language_info": {
   "codemirror_mode": {
    "name": "ipython",
    "version": 3
   },
   "file_extension": ".py",
   "mimetype": "text/x-python",
   "name": "python",
   "nbconvert_exporter": "python",
   "pygments_lexer": "ipython3",
   "version": "3.10.7"
  }
 },
 "nbformat": 4,
 "nbformat_minor": 5
}
