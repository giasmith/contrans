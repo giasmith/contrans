{
 "cells": [
  {
   "cell_type": "code",
   "execution_count": 1,
   "id": "68c38d61-1fc1-411c-b503-efec34e9a163",
   "metadata": {},
   "outputs": [],
   "source": [
    "import pandas as pd\n",
    "import numpy as np\n",
    "import dash\n",
    "from jupyter_dash import JupyterDash\n",
    "from dash import dcc\n",
    "from dash import html\n",
    "from dash.dependencies import Input, Output, State\n",
    "import dash_bootstrap_components as dbc"
   ]
  },
  {
   "cell_type": "code",
   "execution_count": 2,
   "id": "f98b1583-f630-4049-87cf-693170ffc368",
   "metadata": {},
   "outputs": [],
   "source": [
    "#external_stylesheets = ['https://codepen.io/chriddyp/pen/bWLwgP.css']\n",
    "external_stylesheets = ['dbc.themes.LUX']"
   ]
  },
  {
   "cell_type": "markdown",
   "id": "b0e900ca-a4ca-4be4-84f0-363d4fd5ac40",
   "metadata": {},
   "source": [
    "## Initialize the App"
   ]
  },
  {
   "cell_type": "code",
   "execution_count": 3,
   "id": "5a316a96-bb85-4e56-b72a-70af98cfe9ac",
   "metadata": {},
   "outputs": [],
   "source": [
    "app = JupyterDash(__name__, external_stylesheets=external_stylesheets)"
   ]
  },
  {
   "cell_type": "markdown",
   "id": "a67a44dd-efba-4348-aeec-154cec76bb78",
   "metadata": {},
   "source": [
    "## Specify Contents of dashboard"
   ]
  },
  {
   "cell_type": "code",
   "execution_count": 4,
   "id": "1c37216a-8ed5-42eb-928f-8fd6262b84ff",
   "metadata": {},
   "outputs": [],
   "source": [
    "app.layout = html.Div(\n",
    "[\n",
    "    html.H1(\"Game of Dashboards\"), \n",
    "    \n",
    "    dcc.Input(id='username', type='text', placeholder=\"Please type your name here\"),\n",
    "    dcc.Markdown(id='count_letters')\n",
    "])"
   ]
  },
  {
   "cell_type": "markdown",
   "id": "f0333f57-6dbe-4925-90a5-1a59ec70638e",
   "metadata": {},
   "source": [
    "## Callbacks"
   ]
  },
  {
   "cell_type": "code",
   "execution_count": 5,
   "id": "9d0bd15a-1592-40c2-8093-f4988c7bc1e4",
   "metadata": {},
   "outputs": [],
   "source": [
    "#@app.callback([outputs to go back to dashboard], [inputs from the dashboard to next function] ) called a decorator\n",
    "@app.callback(Output(component_id=\"count_letters\", component_property='children'), \n",
    "              Input(component_id='username', component_property='value'))\n",
    "\n",
    "def count_letters(name):\n",
    "    n = str(name).replace(' ', '')\n",
    "    return f\"You have {len(n)} damn letters bruh!\"\n",
    "    "
   ]
  },
  {
   "cell_type": "code",
   "execution_count": 6,
   "id": "6b3094ce-7210-476c-8145-7b04511c3686",
   "metadata": {},
   "outputs": [
    {
     "data": {
      "text/plain": [
       "'You have 3 damn letters bruh!'"
      ]
     },
     "execution_count": 6,
     "metadata": {},
     "output_type": "execute_result"
    }
   ],
   "source": [
    "count_letters(\"Gia\")"
   ]
  },
  {
   "cell_type": "markdown",
   "id": "ceee7701-f64b-483c-912b-23ac22d2bda4",
   "metadata": {},
   "source": [
    "## Run the App"
   ]
  },
  {
   "cell_type": "code",
   "execution_count": 7,
   "id": "11c7cb93-32f0-4703-bb71-eb9b48fbebd5",
   "metadata": {},
   "outputs": [
    {
     "name": "stdout",
     "output_type": "stream",
     "text": [
      "Dash app running on http://0.0.0.0:8050/\n"
     ]
    }
   ],
   "source": [
    "if __name__== \"__main__\":\n",
    "    app.run_server(mode= 'external', host = \"0.0.0.0\", debug=True)\n",
    "    # mode = 'inline' shows in jupyter notebook, 'external' shows on webpage?"
   ]
  }
 ],
 "metadata": {
  "kernelspec": {
   "display_name": "Python 3 (ipykernel)",
   "language": "python",
   "name": "python3"
  },
  "language_info": {
   "codemirror_mode": {
    "name": "ipython",
    "version": 3
   },
   "file_extension": ".py",
   "mimetype": "text/x-python",
   "name": "python",
   "nbconvert_exporter": "python",
   "pygments_lexer": "ipython3",
   "version": "3.10.7"
  }
 },
 "nbformat": 4,
 "nbformat_minor": 5
}
