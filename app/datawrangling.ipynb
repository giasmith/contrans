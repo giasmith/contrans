{
 "cells": [
  {
   "cell_type": "code",
   "execution_count": null,
   "id": "bee5d1cc-dd8c-4f9d-93c8-666714d3ce2a",
   "metadata": {},
   "outputs": [],
   "source": [
    "import pandas as pd\n",
    "import numpy as np\n",
    "import requests\n",
    "import json\n",
    "import os\n",
    "# Gets every bill whether it passed or not\n",
    "\n",
    "propublica_token = os.environ['propub_token']\n",
    "\n",
    "memberurl = 'https://voteview.com/static/data/out/members/HS117_members.csv'\n",
    "cvoteurl = 'https://voteview.com/static/data/out/rollcalls/HS117_rollcalls.csv'\n",
    "memvoteurl = 'https://voteview.com/static/data/out/votes/HS117_votes.csv'\n",
    "cpartyurl = 'https://voteview.com/static/data/out/parties/HS117_parties.csv'\n",
    "\n",
    "members_vv = pd.read_csv(memberurl)\n",
    "cvote_vv = pd.read_csv(cvoteurl)\n",
    "memvote_vv = pd.read_csv(memvoteurl)\n",
    "cparty_vv = pd.read_csv(cpartyurl)\n",
    "\n",
    "useragent_url = 'https://httpbin.org/user-agent'\n",
    "r = requests.get(useragent_url)\n",
    "useragent = json.loads(r.text)['user-agent']\n",
    "\n",
    "headers = {'X-API-Key': propublica_token,\n",
    "          'User-Agent': useragent,\n",
    "          'From': 'nqj5zk@virginia.edu'}\n",
    "\n",
    "root = 'https://api.propublica.org'\n",
    "congress = '117'\n",
    "chamber = 'house'\n",
    "memberendpoint = '/congress/v1/{congress}/{chamber}/members.json'.format(congress=congress, chamber=chamber)\n",
    "\n",
    "r = requests.get(root + memberendpoint, headers = headers)\n",
    "myjson = json.loads(r.text)\n",
    "house_pp = pd.json_normalize(myjson, record_path = ['results', 'members'])\n",
    "\n",
    "chamber = 'senate'\n",
    "memberendpoint = '/congress/v1/{congress}/{chamber}/members.json'.format(congress=congress, chamber=chamber)\n",
    "r = requests.get(root + memberendpoint, headers = headers)\n",
    "myjson = json.loads(r.text)\n",
    "senate_pp = pd.json_normalize(myjson, record_path = ['results', 'members'])\n"
   ]
  },
  {
   "cell_type": "markdown",
   "id": "82d1600b-fcb0-4f3c-9c3c-f4c644dfd43d",
   "metadata": {},
   "source": [
    "billsendpoint = '/congress/v1/{congress}/{chamber}/bills/{billtype}.json'.format(congress='117',\n",
    "                                                                             chamber='both',\n",
    "                                                                             billtype='introduced')\n",
    "n = 20\n",
    "i = 0\n",
    "bills_117 = pd.DataFrame()\n",
    "while n == 20:\n",
    "    myparams = {'query': '', 'offset':i}\n",
    "    r = requests.get(root + billsendpoint, headers = headers, params = myparams)\n",
    "    myjson = json.loads(r.text)\n",
    "    bills_pp = pd.json_normalize(myjson, record_path = ['results', 'bills'])\n",
    "    bills_117 = pd.concat([bills_117, bills_pp], ignore_index=True)\n",
    "    i = i + 20\n",
    "    print(i)\n",
    "    n = myjson['results'][0]['num_results']"
   ]
  },
  {
   "cell_type": "code",
   "execution_count": null,
   "id": "d9e9b229-32a8-43b1-bfee-070d12861851",
   "metadata": {},
   "outputs": [],
   "source": [
    "pd.set_option('display.max_columns', 50)\n",
    "pd.set_option('display.max_rows', 600)"
   ]
  },
  {
   "cell_type": "code",
   "execution_count": null,
   "id": "8905a412-fafb-41eb-8593-bdad9d5af5e5",
   "metadata": {
    "tags": []
   },
   "outputs": [],
   "source": [
    "members_vv.sort_values('nominate_dim1', ascending=True)"
   ]
  },
  {
   "cell_type": "code",
   "execution_count": null,
   "id": "7c07aae2-2791-4b40-bb77-66f762723743",
   "metadata": {
    "tags": []
   },
   "outputs": [],
   "source": [
    "members_vv.query(\"chamber == 'Senate' & born<= 1950 \")"
   ]
  },
  {
   "cell_type": "markdown",
   "id": "fd46c071-6308-4668-85bc-f0cd5f9d5770",
   "metadata": {
    "tags": []
   },
   "source": [
    "# bills_117 will list all bills passed or not \n",
    "bills_117['sponsor_name'].value_counts()\n",
    "bills_117.groupby('sponsor_name').size().sort_values(ascending=True)"
   ]
  },
  {
   "cell_type": "markdown",
   "id": "95bd87bd-ee15-4008-aa96-57c733d44814",
   "metadata": {},
   "source": [
    "bills_117['house_passage'][0] is not None"
   ]
  },
  {
   "cell_type": "markdown",
   "id": "abafaa93-0109-43e5-be10-ce503a2eb73e",
   "metadata": {},
   "source": [
    "bills_117['pass_house']=[x is not None for x in bills_117['house_passage']]\n",
    "bills_117['pass_senate']=[x is not None for x in bills_117['senate_passage']]\n",
    "bills_117['pass_enact']=[x is not None for x in bills_117['enacted']]"
   ]
  },
  {
   "cell_type": "markdown",
   "id": "8e140472-9e0c-4570-b1a3-efddeb161804",
   "metadata": {},
   "source": [
    "bills_117.groupby('sponsor_party').agg({'pass_house':'mean',\n",
    "                                       'pass_senate' : 'mean',\n",
    "                                        'pass_enact': 'mean'})"
   ]
  },
  {
   "cell_type": "code",
   "execution_count": null,
   "id": "e9f2b55d-4df9-4cb0-8103-3b90c2f6be40",
   "metadata": {},
   "outputs": [],
   "source": [
    "members_vv.head(3)"
   ]
  },
  {
   "cell_type": "code",
   "execution_count": null,
   "id": "caf4c423-d7c9-4e4e-9252-f98d405b2816",
   "metadata": {},
   "outputs": [],
   "source": [
    "house_pp.head(3)"
   ]
  },
  {
   "cell_type": "code",
   "execution_count": null,
   "id": "bdca57ee-9875-4b64-8dd3-62472b92239f",
   "metadata": {},
   "outputs": [],
   "source": [
    "senate_pp.head(3)"
   ]
  },
  {
   "cell_type": "code",
   "execution_count": null,
   "id": "29bfc848-d464-4ce7-8d56-a5f71ab3034e",
   "metadata": {},
   "outputs": [],
   "source": [
    "# combining different dataframes \n",
    "members_pp = pd.concat([house_pp, senate_pp],ignore_index=True)\n",
    "members_pp.head(3)"
   ]
  },
  {
   "cell_type": "code",
   "execution_count": null,
   "id": "6cf50ec4-76ea-49ff-b8a2-d7d27ed8b050",
   "metadata": {},
   "outputs": [],
   "source": [
    "members_pp.query(\"icpsr_id == '20301'\")"
   ]
  },
  {
   "cell_type": "code",
   "execution_count": null,
   "id": "06165e96-350b-40e8-86b0-2916c74cb230",
   "metadata": {},
   "outputs": [],
   "source": [
    "members_pp['icpsr']=members_pp['icpsr_id'].astype('float')"
   ]
  },
  {
   "cell_type": "code",
   "execution_count": null,
   "id": "5815c398-87d9-4c5d-9a3b-a6f794b8217b",
   "metadata": {},
   "outputs": [],
   "source": [
    "# 1. locate the dataframes to merge\n",
    "# 2. add the columns you want to join on \n",
    "# 3. \n",
    "members_total = pd.merge(members_vv, members_pp,\n",
    "                        on = 'icpsr', \n",
    "                        how = 'outer',\n",
    "                        #validate one-to-one should match the same amount of variables per other data frame\n",
    "                        #validate = 'one_to_one',\n",
    "                        indicator = 'matched')"
   ]
  },
  {
   "cell_type": "code",
   "execution_count": null,
   "id": "cb736380-e10e-4644-a605-2e72c786cfe2",
   "metadata": {
    "tags": []
   },
   "outputs": [],
   "source": [
    "pd.set_option('display.max_columns', 80)\n",
    "members_total.query(\"matched == 'right_only'\")[members_pp.columns]"
   ]
  },
  {
   "cell_type": "code",
   "execution_count": null,
   "id": "1fff6bcb-e031-49ca-95a8-6f15084aa061",
   "metadata": {},
   "outputs": [],
   "source": [
    "members_pp['icpsr_id']"
   ]
  },
  {
   "cell_type": "code",
   "execution_count": null,
   "id": "bf0f6027-e0b5-4d48-9257-6ccee40ff512",
   "metadata": {},
   "outputs": [],
   "source": [
    "members_pp.columns"
   ]
  },
  {
   "cell_type": "code",
   "execution_count": null,
   "id": "0b8b59d1-9236-4baa-b628-2840ece98f94",
   "metadata": {},
   "outputs": [],
   "source": [
    "members_vv.columns"
   ]
  },
  {
   "cell_type": "code",
   "execution_count": null,
   "id": "4fb15768-95cc-44ce-aa75-88d00ab8b37b",
   "metadata": {},
   "outputs": [],
   "source": [
    "members_vv[['bioname', 'born', 'state_abbrev']].head(3)"
   ]
  },
  {
   "cell_type": "code",
   "execution_count": null,
   "id": "9fa3354d-1335-42c7-8f3a-92e9f9a56562",
   "metadata": {},
   "outputs": [],
   "source": [
    "members_pp[['last_name', 'date_of_birth', 'state']].head(3)"
   ]
  },
  {
   "cell_type": "code",
   "execution_count": null,
   "id": "d7f32fab-09c8-4e45-8f97-0a0e2c4a6a3d",
   "metadata": {
    "tags": []
   },
   "outputs": [],
   "source": [
    "members_vv['last_name']=members_vv['bioname'].str.split(pat=',', expand=True)[0]"
   ]
  },
  {
   "cell_type": "code",
   "execution_count": null,
   "id": "8c01212e-6529-4979-bed6-acb30c0a94fc",
   "metadata": {},
   "outputs": [],
   "source": [
    "members_pp['last_name']=members_pp['last_name'].str.upper()"
   ]
  },
  {
   "cell_type": "code",
   "execution_count": null,
   "id": "9dc66d60-597d-4db3-bf9f-36b1fa319952",
   "metadata": {},
   "outputs": [],
   "source": [
    "members_pp['born']=members_pp['date_of_birth'].str.split(pat='-', expand=True)[0]"
   ]
  },
  {
   "cell_type": "code",
   "execution_count": null,
   "id": "6a1fd3d4-7a0e-4e82-b6ee-437db4ba4b1b",
   "metadata": {},
   "outputs": [],
   "source": [
    "# This kinda messes up because there are 3 people who match in name and birth\n",
    "members_vv[['last_name', 'born', 'state_abbrev']].duplicated().value_counts()"
   ]
  },
  {
   "cell_type": "code",
   "execution_count": null,
   "id": "ca32733b-a282-4bb9-aea1-8b1df1788e5f",
   "metadata": {},
   "outputs": [],
   "source": [
    "members_pp[['state', 'born','last_name']].duplicated().value_counts()"
   ]
  },
  {
   "cell_type": "code",
   "execution_count": null,
   "id": "19026a69-f002-43bb-a6aa-ab2cbc0ebe37",
   "metadata": {},
   "outputs": [],
   "source": [
    "members_vv['born']= members_vv['born'].astype('str')\n",
    "members_pp['born']= members_pp['born'].astype('str')"
   ]
  },
  {
   "cell_type": "code",
   "execution_count": null,
   "id": "c5481a19-1f2e-4ff4-93a8-5003788e11e0",
   "metadata": {},
   "outputs": [],
   "source": [
    "members_total = pd.merge(members_vv, member_pp,\n",
    "                        left_on = ['last_name', 'born', 'state_abbrev'],\n",
    "                        right_on = ['last_name','born','state'],\n",
    "                        how = 'outer',\n",
    "                        validate = 'one-to-one',\n",
    "                        indicator = 'matched')          \n",
    "                                   "
   ]
  },
  {
   "cell_type": "code",
   "execution_count": null,
   "id": "6dc0f2f1-5aad-4df8-b80a-5a4b8d28290b",
   "metadata": {},
   "outputs": [],
   "source": [
    "members_total['matched'].value_counts()"
   ]
  },
  {
   "cell_type": "code",
   "execution_count": null,
   "id": "c11e839b-adca-4a70-812b-f2ec8f2ca3d9",
   "metadata": {},
   "outputs": [],
   "source": [
    "\n",
    "members_total.query(\"matched == 'left_only'\")['last_name', 'born', 'state_abbrev']"
   ]
  }
 ],
 "metadata": {
  "kernelspec": {
   "display_name": "Python 3 (ipykernel)",
   "language": "python",
   "name": "python3"
  },
  "language_info": {
   "codemirror_mode": {
    "name": "ipython",
    "version": 3
   },
   "file_extension": ".py",
   "mimetype": "text/x-python",
   "name": "python",
   "nbconvert_exporter": "python",
   "pygments_lexer": "ipython3",
   "version": "3.10.7"
  }
 },
 "nbformat": 4,
 "nbformat_minor": 5
}
