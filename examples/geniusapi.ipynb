{
 "cells": [
  {
   "cell_type": "code",
   "execution_count": 4,
   "id": "da3ee3d8-f459-4dec-8adc-caffdb747c56",
   "metadata": {},
   "outputs": [],
   "source": [
    "import pandas as pd\n",
    "import numpy as np\n",
    "import json\n",
    "import os"
   ]
  },
  {
   "cell_type": "code",
   "execution_count": 5,
   "id": "ccb7144f-49d6-4c72-9efc-1d1a282286df",
   "metadata": {},
   "outputs": [
    {
     "data": {
      "text/plain": [
       "'xaLzrm44HSUMc6rr0e7qZqdHQYXVrfBHs1Mv8UVDoKIxbtykxAU7i8Hu_zxi_9Zr'"
      ]
     },
     "execution_count": 5,
     "metadata": {},
     "output_type": "execute_result"
    }
   ],
   "source": [
    "genius_token = os.environ['genius_token']\n",
    "genius_token"
   ]
  },
  {
   "cell_type": "code",
   "execution_count": 2,
   "id": "2afb4f5e-77bd-4f3b-85e2-7331fe68f539",
   "metadata": {},
   "outputs": [
    {
     "ename": "NameError",
     "evalue": "name 'genius_token' is not defined",
     "output_type": "error",
     "traceback": [
      "\u001b[0;31m---------------------------------------------------------------------------\u001b[0m",
      "\u001b[0;31mNameError\u001b[0m                                 Traceback (most recent call last)",
      "Cell \u001b[0;32mIn [2], line 6\u001b[0m\n\u001b[1;32m      2\u001b[0m endpoint\u001b[38;5;241m=\u001b[39m\u001b[38;5;124m'\u001b[39m\u001b[38;5;124m /search\u001b[39m\u001b[38;5;124m'\u001b[39m\n\u001b[1;32m      4\u001b[0m mypars\u001b[38;5;241m=\u001b[39m{\u001b[38;5;124m'\u001b[39m\u001b[38;5;124mq\u001b[39m\u001b[38;5;124m'\u001b[39m:\u001b[38;5;124m'\u001b[39m\u001b[38;5;124mfeeling good as hell\u001b[39m\u001b[38;5;124m'\u001b[39m}\n\u001b[0;32m----> 6\u001b[0m headers\u001b[38;5;241m=\u001b[39m{\u001b[38;5;124m'\u001b[39m\u001b[38;5;124mAuthorization\u001b[39m\u001b[38;5;124m'\u001b[39m : \u001b[38;5;124m'\u001b[39m\u001b[38;5;124mBearer \u001b[39m\u001b[38;5;124m'\u001b[39m \u001b[38;5;241m+\u001b[39m \u001b[43mgenius_token\u001b[49m, \u001b[38;5;124m'\u001b[39m\u001b[38;5;124mUser-Agent\u001b[39m\u001b[38;5;124m'\u001b[39m:user_agent}\n\u001b[1;32m      8\u001b[0m r \u001b[38;5;241m=\u001b[39m requests\u001b[38;5;241m.\u001b[39mget\u001b[38;5;241m=\u001b[39m(root\u001b[38;5;241m+\u001b[39mendpoint, \n\u001b[1;32m      9\u001b[0m                   headers \u001b[38;5;241m==\u001b[39m headers,\n\u001b[1;32m     10\u001b[0m                   params \u001b[38;5;241m==\u001b[39m mypars)\n\u001b[1;32m     11\u001b[0m r\n",
      "\u001b[0;31mNameError\u001b[0m: name 'genius_token' is not defined"
     ]
    }
   ],
   "source": [
    "root='https//:api.genius.com'\n",
    "endpoint=' /search'\n",
    "\n",
    "mypars={'q':'feeling good as hell'}\n",
    "\n",
    "headers={'Authorization' : 'Bearer ' + genius_token, 'User-Agent':user_agent}\n",
    "\n",
    "r = requests.get=(root+endpoint, \n",
    "                  headers == headers,\n",
    "                  params == mypars)\n",
    "r"
   ]
  },
  {
   "cell_type": "code",
   "execution_count": 19,
   "id": "c7166a8a-4e80-45dc-ad35-136bd3f58020",
   "metadata": {},
   "outputs": [
    {
     "ename": "NameError",
     "evalue": "name 'r' is not defined",
     "output_type": "error",
     "traceback": [
      "\u001b[0;31m---------------------------------------------------------------------------\u001b[0m",
      "\u001b[0;31mNameError\u001b[0m                                 Traceback (most recent call last)",
      "Cell \u001b[0;32mIn [19], line 1\u001b[0m\n\u001b[0;32m----> 1\u001b[0m myjson\u001b[38;5;241m=\u001b[39mjson\u001b[38;5;241m.\u001b[39mloads(\u001b[43mr\u001b[49m\u001b[38;5;241m.\u001b[39mtext)\n\u001b[1;32m      2\u001b[0m myjson[\u001b[38;5;124m'\u001b[39m\u001b[38;5;124mmeta\u001b[39m\u001b[38;5;124m'\u001b[39m][\u001b[38;5;124m'\u001b[39m\u001b[38;5;124mstatus\u001b[39m\u001b[38;5;124m'\u001b[39m]\n\u001b[1;32m      3\u001b[0m myjson[\u001b[38;5;124m'\u001b[39m\u001b[38;5;124mresponse\u001b[39m\u001b[38;5;124m'\u001b[39m][\u001b[38;5;124m'\u001b[39m\u001b[38;5;124mhits\u001b[39m\u001b[38;5;124m'\u001b[39m][\u001b[38;5;241m0\u001b[39m][\u001b[38;5;124m'\u001b[39m\u001b[38;5;124mresult\u001b[39m\u001b[38;5;124m'\u001b[39m][\u001b[38;5;124m'\u001b[39m\u001b[38;5;124mfull_title\u001b[39m\u001b[38;5;124m'\u001b[39m]\n",
      "\u001b[0;31mNameError\u001b[0m: name 'r' is not defined"
     ]
    }
   ],
   "source": [
    "myjson=json.loads(r.text)\n",
    "myjson['meta']['status']\n",
    "myjson['response']['hits'][2]['result']['full_title']"
   ]
  },
  {
   "cell_type": "code",
   "execution_count": 20,
   "id": "10a8bcd5-162a-43f9-958d-028b296067cd",
   "metadata": {},
   "outputs": [
    {
     "ename": "NameError",
     "evalue": "name 'r' is not defined",
     "output_type": "error",
     "traceback": [
      "\u001b[0;31m---------------------------------------------------------------------------\u001b[0m",
      "\u001b[0;31mNameError\u001b[0m                                 Traceback (most recent call last)",
      "Cell \u001b[0;32mIn [20], line 1\u001b[0m\n\u001b[0;32m----> 1\u001b[0m myjson\u001b[38;5;241m=\u001b[39mjson\u001b[38;5;241m.\u001b[39mloads(\u001b[43mr\u001b[49m\u001b[38;5;241m.\u001b[39mtext)\n\u001b[1;32m      2\u001b[0m genius_df\u001b[38;5;241m=\u001b[39mpd\u001b[38;5;241m.\u001b[39mjson_normalize(myjson, record_path\u001b[38;5;241m=\u001b[39m[\u001b[38;5;124m'\u001b[39m\u001b[38;5;124mresponse\u001b[39m\u001b[38;5;124m'\u001b[39m, \u001b[38;5;124m'\u001b[39m\u001b[38;5;124mhits\u001b[39m\u001b[38;5;124m'\u001b[39m])\n",
      "\u001b[0;31mNameError\u001b[0m: name 'r' is not defined"
     ]
    }
   ],
   "source": [
    "myjson=json.loads(r.text)\n",
    "genius_df=pd.json_normalize(myjson, record_path=['response', 'hits'])"
   ]
  }
 ],
 "metadata": {
  "kernelspec": {
   "display_name": "Python 3 (ipykernel)",
   "language": "python",
   "name": "python3"
  },
  "language_info": {
   "codemirror_mode": {
    "name": "ipython",
    "version": 3
   },
   "file_extension": ".py",
   "mimetype": "text/x-python",
   "name": "python",
   "nbconvert_exporter": "python",
   "pygments_lexer": "ipython3",
   "version": "3.10.7"
  }
 },
 "nbformat": 4,
 "nbformat_minor": 5
}
